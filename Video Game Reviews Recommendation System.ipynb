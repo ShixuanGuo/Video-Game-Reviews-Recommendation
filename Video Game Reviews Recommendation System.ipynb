{
 "cells": [
  {
   "cell_type": "markdown",
   "metadata": {},
   "source": [
    "# Video Games Recommendation System"
   ]
  },
  {
   "cell_type": "markdown",
   "metadata": {},
   "source": [
    "This project mainly focus on developing a video game recommendation system. Once a person entered key words such as \"horror\", \"puzzle\", \"multiplayers\", the system will recommend 10 video games that matches the features. Besides the video games, a sentiment score related with user's comments would also show up to provide more users' information about the video games."
   ]
  },
  {
   "cell_type": "code",
   "execution_count": 1,
   "metadata": {},
   "outputs": [
    {
     "name": "stdout",
     "output_type": "stream",
     "text": [
      "Requirement already satisfied: numpy in /Users/anyidu/.local/lib/python3.7/site-packages (1.17.4)\n",
      "Requirement already satisfied: pandas in /Users/anyidu/opt/anaconda3/lib/python3.7/site-packages (0.25.1)\n",
      "Requirement already satisfied: pytz>=2017.2 in /Users/anyidu/opt/anaconda3/lib/python3.7/site-packages (from pandas) (2019.3)\n",
      "Requirement already satisfied: python-dateutil>=2.6.1 in /Users/anyidu/opt/anaconda3/lib/python3.7/site-packages (from pandas) (2.8.0)\n",
      "Requirement already satisfied: numpy>=1.13.3 in /Users/anyidu/.local/lib/python3.7/site-packages (from pandas) (1.17.4)\n",
      "Requirement already satisfied: six>=1.5 in /Users/anyidu/opt/anaconda3/lib/python3.7/site-packages (from python-dateutil>=2.6.1->pandas) (1.12.0)\n",
      "Requirement already satisfied: nltk in /Users/anyidu/opt/anaconda3/lib/python3.7/site-packages (3.4.5)\n",
      "Requirement already satisfied: six in /Users/anyidu/opt/anaconda3/lib/python3.7/site-packages (from nltk) (1.12.0)\n",
      "Requirement already up-to-date: textblob in /Users/anyidu/opt/anaconda3/lib/python3.7/site-packages (0.15.3)\n",
      "Requirement already satisfied, skipping upgrade: nltk>=3.1 in /Users/anyidu/opt/anaconda3/lib/python3.7/site-packages (from textblob) (3.4.5)\n",
      "Requirement already satisfied, skipping upgrade: six in /Users/anyidu/opt/anaconda3/lib/python3.7/site-packages (from nltk>=3.1->textblob) (1.12.0)\n",
      "Collecting html.parser\n",
      "Requirement already satisfied: ply in /Users/anyidu/opt/anaconda3/lib/python3.7/site-packages (from html.parser) (3.11)\n",
      "Installing collected packages: html.parser\n",
      "Successfully installed html.parser\n",
      "Requirement already satisfied: pattern3 in /Users/anyidu/opt/anaconda3/lib/python3.7/site-packages (3.0.0)\n",
      "Requirement already satisfied: pdfminer.six in /Users/anyidu/opt/anaconda3/lib/python3.7/site-packages (from pattern3) (20200124)\n",
      "Requirement already satisfied: cherrypy in /Users/anyidu/opt/anaconda3/lib/python3.7/site-packages (from pattern3) (18.5.0)\n",
      "Requirement already satisfied: docx in /Users/anyidu/opt/anaconda3/lib/python3.7/site-packages (from pattern3) (0.2.4)\n",
      "Requirement already satisfied: simplejson in /Users/anyidu/opt/anaconda3/lib/python3.7/site-packages (from pattern3) (3.17.0)\n",
      "Requirement already satisfied: pdfminer3k in /Users/anyidu/opt/anaconda3/lib/python3.7/site-packages (from pattern3) (1.3.1)\n",
      "Requirement already satisfied: beautifulsoup4 in /Users/anyidu/opt/anaconda3/lib/python3.7/site-packages (from pattern3) (4.8.0)\n",
      "Requirement already satisfied: feedparser in /Users/anyidu/opt/anaconda3/lib/python3.7/site-packages (from pattern3) (5.2.1)\n",
      "Requirement already satisfied: pycryptodome in /Users/anyidu/opt/anaconda3/lib/python3.7/site-packages (from pdfminer.six->pattern3) (3.9.7)\n",
      "Requirement already satisfied: chardet; python_version > \"3.0\" in /Users/anyidu/opt/anaconda3/lib/python3.7/site-packages (from pdfminer.six->pattern3) (3.0.4)\n",
      "Requirement already satisfied: sortedcontainers in /Users/anyidu/opt/anaconda3/lib/python3.7/site-packages (from pdfminer.six->pattern3) (2.1.0)\n",
      "Requirement already satisfied: cheroot>=8.2.1 in /Users/anyidu/opt/anaconda3/lib/python3.7/site-packages (from cherrypy->pattern3) (8.3.0)\n",
      "Requirement already satisfied: more-itertools in /Users/anyidu/opt/anaconda3/lib/python3.7/site-packages (from cherrypy->pattern3) (7.2.0)\n",
      "Requirement already satisfied: zc.lockfile in /Users/anyidu/opt/anaconda3/lib/python3.7/site-packages (from cherrypy->pattern3) (2.0)\n",
      "Requirement already satisfied: jaraco.collections in /Users/anyidu/opt/anaconda3/lib/python3.7/site-packages (from cherrypy->pattern3) (3.0.0)\n",
      "Requirement already satisfied: portend>=2.1.1 in /Users/anyidu/opt/anaconda3/lib/python3.7/site-packages (from cherrypy->pattern3) (2.6)\n",
      "Requirement already satisfied: Pillow>=2.0 in /Users/anyidu/opt/anaconda3/lib/python3.7/site-packages (from docx->pattern3) (6.2.0)\n",
      "Requirement already satisfied: lxml in /Users/anyidu/opt/anaconda3/lib/python3.7/site-packages (from docx->pattern3) (4.4.1)\n",
      "Requirement already satisfied: ply>=3.4 in /Users/anyidu/opt/anaconda3/lib/python3.7/site-packages (from pdfminer3k->pattern3) (3.11)\n",
      "Requirement already satisfied: pytest>=2.0 in /Users/anyidu/opt/anaconda3/lib/python3.7/site-packages (from pdfminer3k->pattern3) (5.2.1)\n",
      "Requirement already satisfied: soupsieve>=1.2 in /Users/anyidu/opt/anaconda3/lib/python3.7/site-packages (from beautifulsoup4->pattern3) (1.9.3)\n",
      "Requirement already satisfied: six>=1.11.0 in /Users/anyidu/opt/anaconda3/lib/python3.7/site-packages (from cheroot>=8.2.1->cherrypy->pattern3) (1.12.0)\n",
      "Requirement already satisfied: jaraco.functools in /Users/anyidu/opt/anaconda3/lib/python3.7/site-packages (from cheroot>=8.2.1->cherrypy->pattern3) (3.0.0)\n",
      "Requirement already satisfied: setuptools in /Users/anyidu/opt/anaconda3/lib/python3.7/site-packages (from zc.lockfile->cherrypy->pattern3) (41.4.0)\n",
      "Requirement already satisfied: jaraco.classes in /Users/anyidu/opt/anaconda3/lib/python3.7/site-packages (from jaraco.collections->cherrypy->pattern3) (3.1.0)\n",
      "Requirement already satisfied: jaraco.text in /Users/anyidu/opt/anaconda3/lib/python3.7/site-packages (from jaraco.collections->cherrypy->pattern3) (3.2.0)\n",
      "Requirement already satisfied: tempora>=1.8 in /Users/anyidu/opt/anaconda3/lib/python3.7/site-packages (from portend>=2.1.1->cherrypy->pattern3) (3.0.0)\n",
      "Requirement already satisfied: py>=1.5.0 in /Users/anyidu/opt/anaconda3/lib/python3.7/site-packages (from pytest>=2.0->pdfminer3k->pattern3) (1.8.0)\n",
      "Requirement already satisfied: packaging in /Users/anyidu/opt/anaconda3/lib/python3.7/site-packages (from pytest>=2.0->pdfminer3k->pattern3) (19.2)\n",
      "Requirement already satisfied: attrs>=17.4.0 in /Users/anyidu/opt/anaconda3/lib/python3.7/site-packages (from pytest>=2.0->pdfminer3k->pattern3) (19.2.0)\n",
      "Requirement already satisfied: atomicwrites>=1.0 in /Users/anyidu/opt/anaconda3/lib/python3.7/site-packages (from pytest>=2.0->pdfminer3k->pattern3) (1.3.0)\n",
      "Requirement already satisfied: pluggy<1.0,>=0.12 in /Users/anyidu/opt/anaconda3/lib/python3.7/site-packages (from pytest>=2.0->pdfminer3k->pattern3) (0.13.0)\n",
      "Requirement already satisfied: wcwidth in /Users/anyidu/opt/anaconda3/lib/python3.7/site-packages (from pytest>=2.0->pdfminer3k->pattern3) (0.1.7)\n",
      "Requirement already satisfied: importlib-metadata>=0.12 in /Users/anyidu/opt/anaconda3/lib/python3.7/site-packages (from pytest>=2.0->pdfminer3k->pattern3) (0.23)\n",
      "Requirement already satisfied: pytz in /Users/anyidu/opt/anaconda3/lib/python3.7/site-packages (from tempora>=1.8->portend>=2.1.1->cherrypy->pattern3) (2019.3)\n",
      "Requirement already satisfied: pyparsing>=2.0.2 in /Users/anyidu/opt/anaconda3/lib/python3.7/site-packages (from packaging->pytest>=2.0->pdfminer3k->pattern3) (2.4.2)\n",
      "Requirement already satisfied: zipp>=0.5 in /Users/anyidu/opt/anaconda3/lib/python3.7/site-packages (from importlib-metadata>=0.12->pytest>=2.0->pdfminer3k->pattern3) (0.6.0)\n",
      "Requirement already satisfied: pyLDAvis in /Users/anyidu/opt/anaconda3/lib/python3.7/site-packages (2.1.2)\n",
      "Requirement already satisfied: pandas>=0.17.0 in /Users/anyidu/opt/anaconda3/lib/python3.7/site-packages (from pyLDAvis) (0.25.1)\n",
      "Requirement already satisfied: numexpr in /Users/anyidu/opt/anaconda3/lib/python3.7/site-packages (from pyLDAvis) (2.7.0)\n",
      "Requirement already satisfied: wheel>=0.23.0 in /Users/anyidu/opt/anaconda3/lib/python3.7/site-packages (from pyLDAvis) (0.33.6)\n",
      "Requirement already satisfied: scipy>=0.18.0 in /Users/anyidu/opt/anaconda3/lib/python3.7/site-packages (from pyLDAvis) (1.3.1)\n",
      "Requirement already satisfied: pytest in /Users/anyidu/opt/anaconda3/lib/python3.7/site-packages (from pyLDAvis) (5.2.1)\n",
      "Requirement already satisfied: joblib>=0.8.4 in /Users/anyidu/opt/anaconda3/lib/python3.7/site-packages (from pyLDAvis) (0.13.2)\n",
      "Requirement already satisfied: funcy in /Users/anyidu/opt/anaconda3/lib/python3.7/site-packages (from pyLDAvis) (1.14)\n",
      "Requirement already satisfied: numpy>=1.9.2 in /Users/anyidu/.local/lib/python3.7/site-packages (from pyLDAvis) (1.17.4)\n",
      "Requirement already satisfied: future in /Users/anyidu/opt/anaconda3/lib/python3.7/site-packages (from pyLDAvis) (0.17.1)\n",
      "Requirement already satisfied: jinja2>=2.7.2 in /Users/anyidu/opt/anaconda3/lib/python3.7/site-packages (from pyLDAvis) (2.10.3)\n",
      "Requirement already satisfied: pytz>=2017.2 in /Users/anyidu/opt/anaconda3/lib/python3.7/site-packages (from pandas>=0.17.0->pyLDAvis) (2019.3)\n",
      "Requirement already satisfied: python-dateutil>=2.6.1 in /Users/anyidu/opt/anaconda3/lib/python3.7/site-packages (from pandas>=0.17.0->pyLDAvis) (2.8.0)\n",
      "Requirement already satisfied: py>=1.5.0 in /Users/anyidu/opt/anaconda3/lib/python3.7/site-packages (from pytest->pyLDAvis) (1.8.0)\n",
      "Requirement already satisfied: packaging in /Users/anyidu/opt/anaconda3/lib/python3.7/site-packages (from pytest->pyLDAvis) (19.2)\n",
      "Requirement already satisfied: attrs>=17.4.0 in /Users/anyidu/opt/anaconda3/lib/python3.7/site-packages (from pytest->pyLDAvis) (19.2.0)\n"
     ]
    },
    {
     "name": "stdout",
     "output_type": "stream",
     "text": [
      "Requirement already satisfied: more-itertools>=4.0.0 in /Users/anyidu/opt/anaconda3/lib/python3.7/site-packages (from pytest->pyLDAvis) (7.2.0)\r\n",
      "Requirement already satisfied: atomicwrites>=1.0 in /Users/anyidu/opt/anaconda3/lib/python3.7/site-packages (from pytest->pyLDAvis) (1.3.0)\r\n",
      "Requirement already satisfied: pluggy<1.0,>=0.12 in /Users/anyidu/opt/anaconda3/lib/python3.7/site-packages (from pytest->pyLDAvis) (0.13.0)\r\n",
      "Requirement already satisfied: wcwidth in /Users/anyidu/opt/anaconda3/lib/python3.7/site-packages (from pytest->pyLDAvis) (0.1.7)\r\n",
      "Requirement already satisfied: importlib-metadata>=0.12 in /Users/anyidu/opt/anaconda3/lib/python3.7/site-packages (from pytest->pyLDAvis) (0.23)\r\n",
      "Requirement already satisfied: MarkupSafe>=0.23 in /Users/anyidu/opt/anaconda3/lib/python3.7/site-packages (from jinja2>=2.7.2->pyLDAvis) (1.1.1)\r\n",
      "Requirement already satisfied: six>=1.5 in /Users/anyidu/opt/anaconda3/lib/python3.7/site-packages (from python-dateutil>=2.6.1->pandas>=0.17.0->pyLDAvis) (1.12.0)\r\n",
      "Requirement already satisfied: pyparsing>=2.0.2 in /Users/anyidu/opt/anaconda3/lib/python3.7/site-packages (from packaging->pytest->pyLDAvis) (2.4.2)\r\n",
      "Requirement already satisfied: zipp>=0.5 in /Users/anyidu/opt/anaconda3/lib/python3.7/site-packages (from importlib-metadata>=0.12->pytest->pyLDAvis) (0.6.0)\r\n"
     ]
    },
    {
     "name": "stderr",
     "output_type": "stream",
     "text": [
      "[nltk_data] Downloading package stopwords to\n",
      "[nltk_data]     /Users/anyidu/nltk_data...\n",
      "[nltk_data]   Package stopwords is already up-to-date!\n",
      "[nltk_data] Downloading package punkt to /Users/anyidu/nltk_data...\n",
      "[nltk_data]   Package punkt is already up-to-date!\n",
      "[nltk_data] Downloading package averaged_perceptron_tagger to\n",
      "[nltk_data]     /Users/anyidu/nltk_data...\n",
      "[nltk_data]   Package averaged_perceptron_tagger is already up-to-\n",
      "[nltk_data]       date!\n",
      "[nltk_data] Downloading package wordnet to /Users/anyidu/nltk_data...\n",
      "[nltk_data]   Package wordnet is already up-to-date!\n"
     ]
    },
    {
     "name": "stdout",
     "output_type": "stream",
     "text": [
      "Original:   <p>The circus dog in a plissé skirt jumped over Python who wasn't that large, just 3 feet long.</p>\n",
      "Processed:  ['<', 'p', '>', 'The', 'circus', 'dog', 'in', 'a', 'plissé', 'skirt', 'jumped', 'over', 'Python', 'who', 'was', \"n't\", 'that', 'large', ',', 'just', '3', 'feet', 'long.', '<', '/p', '>']\n",
      "Original:   <p>The circus dog in a plissé skirt jumped over Python who wasn't that large, just 3 feet long.</p>\n",
      "Processed:  <p>The circus dog in a plissé skirt jumped over Python who was not that large, just 3 feet long.</p>\n",
      "Original:   <p>The circus dog in a plissé skirt jumped over Python who wasn't that large, just 3 feet long.</p>\n",
      "Processed:  [('<', 'a'), ('p', 'n'), ('>', 'v'), ('the', None), ('circus', 'n'), ('dog', 'n'), ('in', None), ('a', None), ('plissé', 'n'), ('skirt', 'n'), ('jumped', 'v'), ('over', None), ('python', 'n'), ('who', None), ('was', 'v'), (\"n't\", 'r'), ('that', None), ('large', 'a'), (',', None), ('just', 'r'), ('3', None), ('feet', 'n'), ('long.', 'a'), ('<', 'n'), ('/p', 'n'), ('>', 'n')]\n",
      "Original:   <p>The circus dog in a plissé skirt jumped over Python who wasn't that large, just 3 feet long.</p>\n",
      "Processed:  < p > the circus dog in a plissé skirt jump over python who be n't that large , just 3 foot long. < /p >\n",
      "Original:   <p>The circus dog in a plissé skirt jumped over Python who wasn't that large, just 3 feet long.</p>\n",
      "Processed:    p   The circus dog in a plissé skirt jumped over Python who was n t that large   just 3 feet long     p  \n",
      "Original:   <p>The circus dog in a plissé skirt jumped over Python who wasn't that large, just 3 feet long.</p>\n",
      "Processed:  < p > The circus dog plissé skirt jumped Python n't large , 3 feet long. < /p >\n",
      "Original:   <p>The circus dog in a plissé skirt jumped over Python who wasn't that large, just 3 feet long.</p>\n",
      "Processed:  p The circus dog in a plissé skirt jumped over Python who was n't that large just feet long. /p\n",
      "Original:   <p>The circus dog in a plissé skirt jumped over Python who wasn't that large, just 3 feet long.</p>\n",
      "Processed:  The circus dog in a plissé skirt jumped over Python who wasn't that large, just 3 feet long.\n",
      "Original:   <p>The circus dog in a plissé skirt jumped over Python who wasn't that large, just 3 feet long.</p>\n",
      "Processed:  <p>The circus dog in a plisse skirt jumped over Python who wasn't that large, just 3 feet long.</p>\n"
     ]
    }
   ],
   "source": [
    "#packages needed\n",
    "\n",
    "import sys\n",
    "\n",
    "!{sys.executable} -m pip install numpy\n",
    "import numpy as np \n",
    "\n",
    "!{sys.executable} -m pip install pandas\n",
    "import pandas as pd\n",
    "\n",
    "!{sys.executable} -m pip install nltk\n",
    "import nltk\n",
    "\n",
    "import warnings\n",
    "warnings.simplefilter(action='ignore')\n",
    "\n",
    "!{sys.executable} -m pip install -U textblob\n",
    "\n",
    "\n",
    "%run ./Text_Normalization_Function.ipynb "
   ]
  },
  {
   "cell_type": "code",
   "execution_count": 2,
   "metadata": {},
   "outputs": [],
   "source": [
    "df_info = pd.read_csv('metacritic_game_info.csv')\n",
    "df_info = df_info.rename(columns={\"Unnamed: 0\": \"Number\"})\n",
    "df_info = df_info.set_index(\"Number\")\n",
    "df_comment = pd.read_csv('metacritic_game_user_comments.csv')\n",
    "df_comment = df_comment.rename(columns={\"Unnamed: 0\": \"Number\"})\n",
    "df_comment = df_comment.set_index(\"Number\")"
   ]
  },
  {
   "cell_type": "code",
   "execution_count": 3,
   "metadata": {},
   "outputs": [],
   "source": [
    "#exclude non-string comments\n",
    "for index, row in df_comment.iterrows():\n",
    "        l=row['Comment']\n",
    "        if type(l) is not str:\n",
    "            df_comment.drop(index, axis=0, inplace=True)"
   ]
  },
  {
   "cell_type": "markdown",
   "metadata": {},
   "source": [
    "## Lexicon-Based Sentiment Analysis (VADER Lexicon)"
   ]
  },
  {
   "cell_type": "markdown",
   "metadata": {},
   "source": [
    "Import the sentiment analysis function SentimentIntensityAnalyzer() that uses the VADER lexicon from the NLTK package. Through VADER lexicon, we would be able to have a binary sentiment polarity for each of the games comment. "
   ]
  },
  {
   "cell_type": "code",
   "execution_count": 4,
   "metadata": {},
   "outputs": [],
   "source": [
    "from nltk.sentiment.vader import SentimentIntensityAnalyzer\n",
    "analyzer = SentimentIntensityAnalyzer()"
   ]
  },
  {
   "cell_type": "code",
   "execution_count": 106,
   "metadata": {},
   "outputs": [
    {
     "data": {
      "text/html": [
       "<div>\n",
       "<style scoped>\n",
       "    .dataframe tbody tr th:only-of-type {\n",
       "        vertical-align: middle;\n",
       "    }\n",
       "\n",
       "    .dataframe tbody tr th {\n",
       "        vertical-align: top;\n",
       "    }\n",
       "\n",
       "    .dataframe thead th {\n",
       "        text-align: right;\n",
       "    }\n",
       "</style>\n",
       "<table border=\"1\" class=\"dataframe\">\n",
       "  <thead>\n",
       "    <tr style=\"text-align: right;\">\n",
       "      <th></th>\n",
       "      <th>Number</th>\n",
       "      <th>Title</th>\n",
       "      <th>Platform</th>\n",
       "      <th>Userscore</th>\n",
       "      <th>Comment</th>\n",
       "      <th>Username</th>\n",
       "      <th>Bin Actual Userscore Polarity</th>\n",
       "    </tr>\n",
       "  </thead>\n",
       "  <tbody>\n",
       "    <tr>\n",
       "      <td>0</td>\n",
       "      <td>0</td>\n",
       "      <td>The Legend of Zelda: Ocarina of Time</td>\n",
       "      <td>Nintendo64</td>\n",
       "      <td>10</td>\n",
       "      <td>Everything in OoT is so near at perfection, it...</td>\n",
       "      <td>SirCaestus</td>\n",
       "      <td>positive</td>\n",
       "    </tr>\n",
       "    <tr>\n",
       "      <td>1</td>\n",
       "      <td>1</td>\n",
       "      <td>The Legend of Zelda: Ocarina of Time</td>\n",
       "      <td>Nintendo64</td>\n",
       "      <td>10</td>\n",
       "      <td>I won't bore you with what everyone is already...</td>\n",
       "      <td>Kaistlin</td>\n",
       "      <td>positive</td>\n",
       "    </tr>\n",
       "    <tr>\n",
       "      <td>2</td>\n",
       "      <td>2</td>\n",
       "      <td>The Legend of Zelda: Ocarina of Time</td>\n",
       "      <td>Nintendo64</td>\n",
       "      <td>10</td>\n",
       "      <td>Anyone who gives the masterpiece below a 7 or ...</td>\n",
       "      <td>Jacody</td>\n",
       "      <td>positive</td>\n",
       "    </tr>\n",
       "    <tr>\n",
       "      <td>3</td>\n",
       "      <td>3</td>\n",
       "      <td>The Legend of Zelda: Ocarina of Time</td>\n",
       "      <td>Nintendo64</td>\n",
       "      <td>10</td>\n",
       "      <td>I'm one of those people who think that this is...</td>\n",
       "      <td>doodlerman</td>\n",
       "      <td>positive</td>\n",
       "    </tr>\n",
       "    <tr>\n",
       "      <td>4</td>\n",
       "      <td>4</td>\n",
       "      <td>The Legend of Zelda: Ocarina of Time</td>\n",
       "      <td>Nintendo64</td>\n",
       "      <td>10</td>\n",
       "      <td>This game is the highest rated game on Metacr...</td>\n",
       "      <td>StevenA</td>\n",
       "      <td>positive</td>\n",
       "    </tr>\n",
       "    <tr>\n",
       "      <td>...</td>\n",
       "      <td>...</td>\n",
       "      <td>...</td>\n",
       "      <td>...</td>\n",
       "      <td>...</td>\n",
       "      <td>...</td>\n",
       "      <td>...</td>\n",
       "      <td>...</td>\n",
       "    </tr>\n",
       "    <tr>\n",
       "      <td>283955</td>\n",
       "      <td>283978</td>\n",
       "      <td>Etrian Odyssey Untold: The Millennium Girl</td>\n",
       "      <td>3DS</td>\n",
       "      <td>7</td>\n",
       "      <td>Extremely similar to EO:4, which obviously isn...</td>\n",
       "      <td>RileyWRussell</td>\n",
       "      <td>negative</td>\n",
       "    </tr>\n",
       "    <tr>\n",
       "      <td>283956</td>\n",
       "      <td>283979</td>\n",
       "      <td>Etrian Odyssey Untold: The Millennium Girl</td>\n",
       "      <td>3DS</td>\n",
       "      <td>0</td>\n",
       "      <td>Typical overrated Atlus trash. A game i should...</td>\n",
       "      <td>TemplarGR</td>\n",
       "      <td>negative</td>\n",
       "    </tr>\n",
       "    <tr>\n",
       "      <td>283957</td>\n",
       "      <td>283980</td>\n",
       "      <td>Etrian Odyssey Untold: The Millennium Girl</td>\n",
       "      <td>3DS</td>\n",
       "      <td>9</td>\n",
       "      <td>While I find the story mode to have annoying c...</td>\n",
       "      <td>midipon</td>\n",
       "      <td>positive</td>\n",
       "    </tr>\n",
       "    <tr>\n",
       "      <td>283958</td>\n",
       "      <td>283981</td>\n",
       "      <td>Etrian Odyssey Untold: The Millennium Girl</td>\n",
       "      <td>3DS</td>\n",
       "      <td>8</td>\n",
       "      <td>Pretty good, but it certainly lacks the visual...</td>\n",
       "      <td>night4</td>\n",
       "      <td>positive</td>\n",
       "    </tr>\n",
       "    <tr>\n",
       "      <td>283959</td>\n",
       "      <td>283982</td>\n",
       "      <td>Etrian Odyssey Untold: The Millennium Girl</td>\n",
       "      <td>3DS</td>\n",
       "      <td>9</td>\n",
       "      <td>As my first game from the \"Etrian series\" i ha...</td>\n",
       "      <td>Balorer</td>\n",
       "      <td>positive</td>\n",
       "    </tr>\n",
       "  </tbody>\n",
       "</table>\n",
       "<p>283960 rows × 7 columns</p>\n",
       "</div>"
      ],
      "text/plain": [
       "        Number                                       Title    Platform  \\\n",
       "0            0        The Legend of Zelda: Ocarina of Time  Nintendo64   \n",
       "1            1        The Legend of Zelda: Ocarina of Time  Nintendo64   \n",
       "2            2        The Legend of Zelda: Ocarina of Time  Nintendo64   \n",
       "3            3        The Legend of Zelda: Ocarina of Time  Nintendo64   \n",
       "4            4        The Legend of Zelda: Ocarina of Time  Nintendo64   \n",
       "...        ...                                         ...         ...   \n",
       "283955  283978  Etrian Odyssey Untold: The Millennium Girl         3DS   \n",
       "283956  283979  Etrian Odyssey Untold: The Millennium Girl         3DS   \n",
       "283957  283980  Etrian Odyssey Untold: The Millennium Girl         3DS   \n",
       "283958  283981  Etrian Odyssey Untold: The Millennium Girl         3DS   \n",
       "283959  283982  Etrian Odyssey Untold: The Millennium Girl         3DS   \n",
       "\n",
       "        Userscore                                            Comment  \\\n",
       "0              10  Everything in OoT is so near at perfection, it...   \n",
       "1              10  I won't bore you with what everyone is already...   \n",
       "2              10  Anyone who gives the masterpiece below a 7 or ...   \n",
       "3              10  I'm one of those people who think that this is...   \n",
       "4              10   This game is the highest rated game on Metacr...   \n",
       "...           ...                                                ...   \n",
       "283955          7  Extremely similar to EO:4, which obviously isn...   \n",
       "283956          0  Typical overrated Atlus trash. A game i should...   \n",
       "283957          9  While I find the story mode to have annoying c...   \n",
       "283958          8  Pretty good, but it certainly lacks the visual...   \n",
       "283959          9  As my first game from the \"Etrian series\" i ha...   \n",
       "\n",
       "             Username Bin Actual Userscore Polarity  \n",
       "0          SirCaestus                      positive  \n",
       "1            Kaistlin                      positive  \n",
       "2              Jacody                      positive  \n",
       "3          doodlerman                      positive  \n",
       "4             StevenA                      positive  \n",
       "...               ...                           ...  \n",
       "283955  RileyWRussell                      negative  \n",
       "283956      TemplarGR                      negative  \n",
       "283957        midipon                      positive  \n",
       "283958         night4                      positive  \n",
       "283959        Balorer                      positive  \n",
       "\n",
       "[283960 rows x 7 columns]"
      ]
     },
     "execution_count": 106,
     "metadata": {},
     "output_type": "execute_result"
    }
   ],
   "source": [
    "# Binary Actual Userscore Polarity\n",
    "bin_Actual = []\n",
    "for i in df_comment['Userscore']:\n",
    "    if i > 7.6:\n",
    "        Pol = \"positive\"\n",
    "    else:\n",
    "        Pol = \"negative\"\n",
    "    bin_Actual.append(Pol)\n",
    "\n",
    "df_comment[\"Bin Actual Userscore Polarity\"]=bin_Actual\n",
    "df_comment.reset_index()"
   ]
  },
  {
   "cell_type": "code",
   "execution_count": 107,
   "metadata": {
    "scrolled": true
   },
   "outputs": [
    {
     "data": {
      "text/html": [
       "<div>\n",
       "<style scoped>\n",
       "    .dataframe tbody tr th:only-of-type {\n",
       "        vertical-align: middle;\n",
       "    }\n",
       "\n",
       "    .dataframe tbody tr th {\n",
       "        vertical-align: top;\n",
       "    }\n",
       "\n",
       "    .dataframe thead th {\n",
       "        text-align: right;\n",
       "    }\n",
       "</style>\n",
       "<table border=\"1\" class=\"dataframe\">\n",
       "  <thead>\n",
       "    <tr style=\"text-align: right;\">\n",
       "      <th></th>\n",
       "      <th>Title</th>\n",
       "      <th>Platform</th>\n",
       "      <th>Userscore</th>\n",
       "      <th>Comment</th>\n",
       "      <th>Username</th>\n",
       "      <th>Bin Actual Userscore Polarity</th>\n",
       "      <th>Vader Score</th>\n",
       "    </tr>\n",
       "    <tr>\n",
       "      <th>Number</th>\n",
       "      <th></th>\n",
       "      <th></th>\n",
       "      <th></th>\n",
       "      <th></th>\n",
       "      <th></th>\n",
       "      <th></th>\n",
       "      <th></th>\n",
       "    </tr>\n",
       "  </thead>\n",
       "  <tbody>\n",
       "    <tr>\n",
       "      <td>0</td>\n",
       "      <td>The Legend of Zelda: Ocarina of Time</td>\n",
       "      <td>Nintendo64</td>\n",
       "      <td>10</td>\n",
       "      <td>Everything in OoT is so near at perfection, it...</td>\n",
       "      <td>SirCaestus</td>\n",
       "      <td>positive</td>\n",
       "      <td>0.3758</td>\n",
       "    </tr>\n",
       "    <tr>\n",
       "      <td>1</td>\n",
       "      <td>The Legend of Zelda: Ocarina of Time</td>\n",
       "      <td>Nintendo64</td>\n",
       "      <td>10</td>\n",
       "      <td>I won't bore you with what everyone is already...</td>\n",
       "      <td>Kaistlin</td>\n",
       "      <td>positive</td>\n",
       "      <td>0.6747</td>\n",
       "    </tr>\n",
       "    <tr>\n",
       "      <td>2</td>\n",
       "      <td>The Legend of Zelda: Ocarina of Time</td>\n",
       "      <td>Nintendo64</td>\n",
       "      <td>10</td>\n",
       "      <td>Anyone who gives the masterpiece below a 7 or ...</td>\n",
       "      <td>Jacody</td>\n",
       "      <td>positive</td>\n",
       "      <td>0.9641</td>\n",
       "    </tr>\n",
       "    <tr>\n",
       "      <td>3</td>\n",
       "      <td>The Legend of Zelda: Ocarina of Time</td>\n",
       "      <td>Nintendo64</td>\n",
       "      <td>10</td>\n",
       "      <td>I'm one of those people who think that this is...</td>\n",
       "      <td>doodlerman</td>\n",
       "      <td>positive</td>\n",
       "      <td>0.9946</td>\n",
       "    </tr>\n",
       "    <tr>\n",
       "      <td>4</td>\n",
       "      <td>The Legend of Zelda: Ocarina of Time</td>\n",
       "      <td>Nintendo64</td>\n",
       "      <td>10</td>\n",
       "      <td>This game is the highest rated game on Metacr...</td>\n",
       "      <td>StevenA</td>\n",
       "      <td>positive</td>\n",
       "      <td>0.9622</td>\n",
       "    </tr>\n",
       "  </tbody>\n",
       "</table>\n",
       "</div>"
      ],
      "text/plain": [
       "                                       Title    Platform  Userscore  \\\n",
       "Number                                                                \n",
       "0       The Legend of Zelda: Ocarina of Time  Nintendo64         10   \n",
       "1       The Legend of Zelda: Ocarina of Time  Nintendo64         10   \n",
       "2       The Legend of Zelda: Ocarina of Time  Nintendo64         10   \n",
       "3       The Legend of Zelda: Ocarina of Time  Nintendo64         10   \n",
       "4       The Legend of Zelda: Ocarina of Time  Nintendo64         10   \n",
       "\n",
       "                                                  Comment    Username  \\\n",
       "Number                                                                  \n",
       "0       Everything in OoT is so near at perfection, it...  SirCaestus   \n",
       "1       I won't bore you with what everyone is already...    Kaistlin   \n",
       "2       Anyone who gives the masterpiece below a 7 or ...      Jacody   \n",
       "3       I'm one of those people who think that this is...  doodlerman   \n",
       "4        This game is the highest rated game on Metacr...     StevenA   \n",
       "\n",
       "       Bin Actual Userscore Polarity  Vader Score  \n",
       "Number                                             \n",
       "0                           positive       0.3758  \n",
       "1                           positive       0.6747  \n",
       "2                           positive       0.9641  \n",
       "3                           positive       0.9946  \n",
       "4                           positive       0.9622  "
      ]
     },
     "execution_count": 107,
     "metadata": {},
     "output_type": "execute_result"
    }
   ],
   "source": [
    "#VADER\n",
    "Vader_scores=[]\n",
    "for comment in df_comment['Comment']:\n",
    "    compound_score = analyzer.polarity_scores(comment)['compound']\n",
    "    Vader_scores.append(compound_score)\n",
    "    \n",
    "\n",
    "df_comment['Vader Score'] = Vader_scores\n",
    "df_comment.head()"
   ]
  },
  {
   "cell_type": "code",
   "execution_count": 108,
   "metadata": {},
   "outputs": [],
   "source": [
    "# given the vader score, get polarity\n",
    "def analyze_sentiment_vader_lexicon(review, threshold = 0.1, verbose = False):\n",
    "    scores = analyzer.polarity_scores(review)  \n",
    "    binary_sentiment = 'positive' if scores['compound'] >= threshold else 'negative'\n",
    "    if verbose:                             \n",
    "        print('VADER Polarity (Binary):', binary_sentiment)\n",
    "        print('VADER Score:', round(scores['compound'], 2))\n",
    "    return binary_sentiment,scores['compound']  "
   ]
  },
  {
   "cell_type": "code",
   "execution_count": 109,
   "metadata": {},
   "outputs": [],
   "source": [
    "VADER_polarity_test = [analyze_sentiment_vader_lexicon(comment, threshold=0.2) for comment in df_comment[\"Comment\"]]\n",
    "VADER_polarity_test_df = pd.DataFrame(VADER_polarity_test, columns = ['VADER Polarity','VADER Score'])"
   ]
  },
  {
   "cell_type": "code",
   "execution_count": 110,
   "metadata": {},
   "outputs": [
    {
     "name": "stdout",
     "output_type": "stream",
     "text": [
      "Accuracy Rate: 0.743 \n",
      "\n"
     ]
    }
   ],
   "source": [
    "from sklearn import metrics\n",
    "print('Accuracy Rate:', np.round(metrics.accuracy_score(df_comment[\"Bin Actual Userscore Polarity\"], \n",
    "                                 VADER_polarity_test_df[\"VADER Polarity\"]), 3),\"\\n\")"
   ]
  },
  {
   "cell_type": "markdown",
   "metadata": {},
   "source": [
    "## Find-tune the best threshold parameter"
   ]
  },
  {
   "cell_type": "markdown",
   "metadata": {},
   "source": [
    "The next step is to select the best threshold. The main goal for this approach is to assign the polarity for each of the game comment under the highest accuracy rate. "
   ]
  },
  {
   "cell_type": "code",
   "execution_count": 111,
   "metadata": {},
   "outputs": [],
   "source": [
    "def try_threshold_for_accuracy(sentiment_scores, threshold_for_pos):\n",
    "    VADER_binary_polarity = ['positive' if s >= threshold_for_pos else 'negative' for s in list(sentiment_scores)]\n",
    "    accuracy = metrics.accuracy_score(df_comment[\"Bin Actual Userscore Polarity\"], VADER_binary_polarity)\n",
    "    return(accuracy) \n"
   ]
  },
  {
   "cell_type": "code",
   "execution_count": 113,
   "metadata": {},
   "outputs": [
    {
     "name": "stdout",
     "output_type": "stream",
     "text": [
      "0.742558811100155\n"
     ]
    }
   ],
   "source": [
    "from sklearn import metrics\n",
    "threshold = 0.2\n",
    "print(try_threshold_for_accuracy(VADER_polarity_test_df[\"VADER Score\"],threshold))"
   ]
  },
  {
   "cell_type": "code",
   "execution_count": 118,
   "metadata": {},
   "outputs": [
    {
     "data": {
      "text/html": [
       "<div>\n",
       "<style scoped>\n",
       "    .dataframe tbody tr th:only-of-type {\n",
       "        vertical-align: middle;\n",
       "    }\n",
       "\n",
       "    .dataframe tbody tr th {\n",
       "        vertical-align: top;\n",
       "    }\n",
       "\n",
       "    .dataframe thead th {\n",
       "        text-align: right;\n",
       "    }\n",
       "</style>\n",
       "<table border=\"1\" class=\"dataframe\">\n",
       "  <thead>\n",
       "    <tr style=\"text-align: right;\">\n",
       "      <th>Predicted:</th>\n",
       "      <th>negative</th>\n",
       "      <th>positive</th>\n",
       "      <th>All</th>\n",
       "    </tr>\n",
       "    <tr>\n",
       "      <th>True:</th>\n",
       "      <th></th>\n",
       "      <th></th>\n",
       "      <th></th>\n",
       "    </tr>\n",
       "  </thead>\n",
       "  <tbody>\n",
       "    <tr>\n",
       "      <td>negative</td>\n",
       "      <td>33869</td>\n",
       "      <td>53811</td>\n",
       "      <td>87680</td>\n",
       "    </tr>\n",
       "    <tr>\n",
       "      <td>positive</td>\n",
       "      <td>38841</td>\n",
       "      <td>157416</td>\n",
       "      <td>196257</td>\n",
       "    </tr>\n",
       "    <tr>\n",
       "      <td>All</td>\n",
       "      <td>72710</td>\n",
       "      <td>211227</td>\n",
       "      <td>283937</td>\n",
       "    </tr>\n",
       "  </tbody>\n",
       "</table>\n",
       "</div>"
      ],
      "text/plain": [
       "Predicted:  negative  positive     All\n",
       "True:                                 \n",
       "negative       33869     53811   87680\n",
       "positive       38841    157416  196257\n",
       "All            72710    211227  283937"
      ]
     },
     "execution_count": 118,
     "metadata": {},
     "output_type": "execute_result"
    }
   ],
   "source": [
    "pd.crosstab(pd.Series(df_comment[\"Bin Actual Userscore Polarity\"]), \n",
    "            pd.Series(VADER_polarity_test_df['VADER Polarity']), \n",
    "            rownames = ['True:'], \n",
    "            colnames = ['Predicted:'], \n",
    "            margins = True)"
   ]
  },
  {
   "cell_type": "code",
   "execution_count": 115,
   "metadata": {},
   "outputs": [
    {
     "data": {
      "image/png": "[encoded data removed]",
      "text/plain": [
       "<Figure size 432x288 with 1 Axes>"
      ]
     },
     "metadata": {
      "needs_background": "light"
     },
     "output_type": "display_data"
    }
   ],
   "source": [
    "import matplotlib.pyplot as plt\n",
    "thresholds = np.linspace(-1,1,1000)\n",
    "accuracy_rates = [try_threshold_for_accuracy(VADER_polarity_test_df[\"VADER Score\"],threshold) for threshold in thresholds]\n",
    "\n",
    "plt.plot(thresholds, accuracy_rates)\n",
    "plt.xlabel(\"Threshold score for positive (binary) sentiment polarity\")\n",
    "plt.ylabel(\"Accuracy rate\")\n",
    "plt.title(\"Accuracy Rate of Sentiment Polarity Prediction \\n as a Function of Threshold for VADER Scores \\n\")\n",
    "plt.show()\n"
   ]
  },
  {
   "cell_type": "code",
   "execution_count": 116,
   "metadata": {},
   "outputs": [],
   "source": [
    "best_thresholds = thresholds[accuracy_rates.index(max(accuracy_rates))] "
   ]
  },
  {
   "cell_type": "code",
   "execution_count": 119,
   "metadata": {},
   "outputs": [
    {
     "data": {
      "text/plain": [
       "-0.005005005005005003"
      ]
     },
     "execution_count": 119,
     "metadata": {},
     "output_type": "execute_result"
    }
   ],
   "source": [
    "best_thresholds"
   ]
  },
  {
   "cell_type": "markdown",
   "metadata": {},
   "source": [
    "We'll be looking for the threshold value that gives us the highest accuracy rate. As you can saw in the last cell, the best_thresholds is around -0.005."
   ]
  },
  {
   "cell_type": "code",
   "execution_count": 120,
   "metadata": {},
   "outputs": [],
   "source": [
    "VADER_polarity_test = [analyze_sentiment_vader_lexicon(comment, threshold= best_thresholds) for comment in df_comment[\"Comment\"]]\n",
    "VADER_polarity_test_df = pd.DataFrame(VADER_polarity_test, columns = ['VADER Polarity','VADER Score'])\n",
    "df_comment[\"VADER Polarity\"] = VADER_polarity_test_df['VADER Polarity']"
   ]
  },
  {
   "cell_type": "code",
   "execution_count": 121,
   "metadata": {},
   "outputs": [
    {
     "data": {
      "text/html": [
       "<div>\n",
       "<style scoped>\n",
       "    .dataframe tbody tr th:only-of-type {\n",
       "        vertical-align: middle;\n",
       "    }\n",
       "\n",
       "    .dataframe tbody tr th {\n",
       "        vertical-align: top;\n",
       "    }\n",
       "\n",
       "    .dataframe thead th {\n",
       "        text-align: right;\n",
       "    }\n",
       "</style>\n",
       "<table border=\"1\" class=\"dataframe\">\n",
       "  <thead>\n",
       "    <tr style=\"text-align: right;\">\n",
       "      <th></th>\n",
       "      <th>Title</th>\n",
       "      <th>Platform</th>\n",
       "      <th>Userscore</th>\n",
       "      <th>Comment</th>\n",
       "      <th>Username</th>\n",
       "      <th>Bin Actual Userscore Polarity</th>\n",
       "      <th>Vader Score</th>\n",
       "      <th>VADER Polarity</th>\n",
       "    </tr>\n",
       "    <tr>\n",
       "      <th>Number</th>\n",
       "      <th></th>\n",
       "      <th></th>\n",
       "      <th></th>\n",
       "      <th></th>\n",
       "      <th></th>\n",
       "      <th></th>\n",
       "      <th></th>\n",
       "      <th></th>\n",
       "    </tr>\n",
       "  </thead>\n",
       "  <tbody>\n",
       "    <tr>\n",
       "      <td>0</td>\n",
       "      <td>The Legend of Zelda: Ocarina of Time</td>\n",
       "      <td>Nintendo64</td>\n",
       "      <td>10</td>\n",
       "      <td>Everything in OoT is so near at perfection, it...</td>\n",
       "      <td>SirCaestus</td>\n",
       "      <td>positive</td>\n",
       "      <td>0.3758</td>\n",
       "      <td>positive</td>\n",
       "    </tr>\n",
       "    <tr>\n",
       "      <td>1</td>\n",
       "      <td>The Legend of Zelda: Ocarina of Time</td>\n",
       "      <td>Nintendo64</td>\n",
       "      <td>10</td>\n",
       "      <td>I won't bore you with what everyone is already...</td>\n",
       "      <td>Kaistlin</td>\n",
       "      <td>positive</td>\n",
       "      <td>0.6747</td>\n",
       "      <td>positive</td>\n",
       "    </tr>\n",
       "    <tr>\n",
       "      <td>2</td>\n",
       "      <td>The Legend of Zelda: Ocarina of Time</td>\n",
       "      <td>Nintendo64</td>\n",
       "      <td>10</td>\n",
       "      <td>Anyone who gives the masterpiece below a 7 or ...</td>\n",
       "      <td>Jacody</td>\n",
       "      <td>positive</td>\n",
       "      <td>0.9641</td>\n",
       "      <td>positive</td>\n",
       "    </tr>\n",
       "    <tr>\n",
       "      <td>3</td>\n",
       "      <td>The Legend of Zelda: Ocarina of Time</td>\n",
       "      <td>Nintendo64</td>\n",
       "      <td>10</td>\n",
       "      <td>I'm one of those people who think that this is...</td>\n",
       "      <td>doodlerman</td>\n",
       "      <td>positive</td>\n",
       "      <td>0.9946</td>\n",
       "      <td>positive</td>\n",
       "    </tr>\n",
       "    <tr>\n",
       "      <td>4</td>\n",
       "      <td>The Legend of Zelda: Ocarina of Time</td>\n",
       "      <td>Nintendo64</td>\n",
       "      <td>10</td>\n",
       "      <td>This game is the highest rated game on Metacr...</td>\n",
       "      <td>StevenA</td>\n",
       "      <td>positive</td>\n",
       "      <td>0.9622</td>\n",
       "      <td>positive</td>\n",
       "    </tr>\n",
       "  </tbody>\n",
       "</table>\n",
       "</div>"
      ],
      "text/plain": [
       "                                       Title    Platform  Userscore  \\\n",
       "Number                                                                \n",
       "0       The Legend of Zelda: Ocarina of Time  Nintendo64         10   \n",
       "1       The Legend of Zelda: Ocarina of Time  Nintendo64         10   \n",
       "2       The Legend of Zelda: Ocarina of Time  Nintendo64         10   \n",
       "3       The Legend of Zelda: Ocarina of Time  Nintendo64         10   \n",
       "4       The Legend of Zelda: Ocarina of Time  Nintendo64         10   \n",
       "\n",
       "                                                  Comment    Username  \\\n",
       "Number                                                                  \n",
       "0       Everything in OoT is so near at perfection, it...  SirCaestus   \n",
       "1       I won't bore you with what everyone is already...    Kaistlin   \n",
       "2       Anyone who gives the masterpiece below a 7 or ...      Jacody   \n",
       "3       I'm one of those people who think that this is...  doodlerman   \n",
       "4        This game is the highest rated game on Metacr...     StevenA   \n",
       "\n",
       "       Bin Actual Userscore Polarity  Vader Score VADER Polarity  \n",
       "Number                                                            \n",
       "0                           positive       0.3758       positive  \n",
       "1                           positive       0.6747       positive  \n",
       "2                           positive       0.9641       positive  \n",
       "3                           positive       0.9946       positive  \n",
       "4                           positive       0.9622       positive  "
      ]
     },
     "execution_count": 121,
     "metadata": {},
     "output_type": "execute_result"
    }
   ],
   "source": [
    "df_comment.head()"
   ]
  },
  {
   "cell_type": "code",
   "execution_count": 125,
   "metadata": {},
   "outputs": [],
   "source": [
    "df_comment[\"VADER Polarity\"]=df_comment[\"VADER Polarity\"].apply(lambda x: 1 if x is \"positive\" else 0)"
   ]
  },
  {
   "cell_type": "markdown",
   "metadata": {},
   "source": [
    "## Concatenate comments for each video game"
   ]
  },
  {
   "cell_type": "markdown",
   "metadata": {},
   "source": [
    "This step is to concatenate each video games comments together. By doing that, we would be able to extract the main features/or themes for each of the games."
   ]
  },
  {
   "cell_type": "code",
   "execution_count": 126,
   "metadata": {},
   "outputs": [],
   "source": [
    "df_comment_group_1=df_comment.groupby(['Title'])['Userscore','VADER Polarity','Comment'].agg({'Userscore':np.mean,\\\n",
    "                                                                                           'VADER Polarity':np.mean,\\\n",
    "                                                                           'Comment':lambda column: \" \".join(column)})"
   ]
  },
  {
   "cell_type": "code",
   "execution_count": 128,
   "metadata": {},
   "outputs": [],
   "source": [
    "df_comment_group=df_comment_group_1.reset_index()"
   ]
  },
  {
   "cell_type": "code",
   "execution_count": 129,
   "metadata": {},
   "outputs": [
    {
     "data": {
      "text/html": [
       "<div>\n",
       "<style scoped>\n",
       "    .dataframe tbody tr th:only-of-type {\n",
       "        vertical-align: middle;\n",
       "    }\n",
       "\n",
       "    .dataframe tbody tr th {\n",
       "        vertical-align: top;\n",
       "    }\n",
       "\n",
       "    .dataframe thead th {\n",
       "        text-align: right;\n",
       "    }\n",
       "</style>\n",
       "<table border=\"1\" class=\"dataframe\">\n",
       "  <thead>\n",
       "    <tr style=\"text-align: right;\">\n",
       "      <th></th>\n",
       "      <th>Title</th>\n",
       "      <th>Userscore</th>\n",
       "      <th>VADER Polarity</th>\n",
       "      <th>Comment</th>\n",
       "    </tr>\n",
       "  </thead>\n",
       "  <tbody>\n",
       "    <tr>\n",
       "      <td>0</td>\n",
       "      <td>'Splosion Man</td>\n",
       "      <td>8.6875</td>\n",
       "      <td>0.875</td>\n",
       "      <td>One of the best purchases I've ever made on X...</td>\n",
       "    </tr>\n",
       "    <tr>\n",
       "      <td>1</td>\n",
       "      <td>007: The World is Not Enough</td>\n",
       "      <td>7.2000</td>\n",
       "      <td>0.600</td>\n",
       "      <td>It's quite a good fps. But for some unknown r...</td>\n",
       "    </tr>\n",
       "    <tr>\n",
       "      <td>2</td>\n",
       "      <td>2010 FIFA World Cup South Africa</td>\n",
       "      <td>7.6875</td>\n",
       "      <td>1.000</td>\n",
       "      <td>This game feels like an other unfinished EA s...</td>\n",
       "    </tr>\n",
       "    <tr>\n",
       "      <td>3</td>\n",
       "      <td>3D After Burner II</td>\n",
       "      <td>8.0000</td>\n",
       "      <td>1.000</td>\n",
       "      <td>This is the definitive port of After Burner. S...</td>\n",
       "    </tr>\n",
       "    <tr>\n",
       "      <td>4</td>\n",
       "      <td>3D Gunstar Heroes</td>\n",
       "      <td>8.7500</td>\n",
       "      <td>1.000</td>\n",
       "      <td>It's Gunstar Heroes, emulated and enhanced by ...</td>\n",
       "    </tr>\n",
       "  </tbody>\n",
       "</table>\n",
       "</div>"
      ],
      "text/plain": [
       "                              Title  Userscore  VADER Polarity  \\\n",
       "0                     'Splosion Man     8.6875           0.875   \n",
       "1      007: The World is Not Enough     7.2000           0.600   \n",
       "2  2010 FIFA World Cup South Africa     7.6875           1.000   \n",
       "3                3D After Burner II     8.0000           1.000   \n",
       "4                 3D Gunstar Heroes     8.7500           1.000   \n",
       "\n",
       "                                             Comment  \n",
       "0   One of the best purchases I've ever made on X...  \n",
       "1   It's quite a good fps. But for some unknown r...  \n",
       "2   This game feels like an other unfinished EA s...  \n",
       "3  This is the definitive port of After Burner. S...  \n",
       "4  It's Gunstar Heroes, emulated and enhanced by ...  "
      ]
     },
     "execution_count": 129,
     "metadata": {},
     "output_type": "execute_result"
    }
   ],
   "source": [
    "df_comment_group.head()"
   ]
  },
  {
   "cell_type": "markdown",
   "metadata": {},
   "source": [
    "## Text Vectorization with Term Frequency - TF-IDF "
   ]
  },
  {
   "cell_type": "markdown",
   "metadata": {},
   "source": [
    "Now, the next step is feature extraction/vectorization using the TF-IDF approach."
   ]
  },
  {
   "cell_type": "code",
   "execution_count": 131,
   "metadata": {},
   "outputs": [],
   "source": [
    "from sklearn.feature_extraction.text import TfidfVectorizer \n",
    "vectorizer_TF_IDF = TfidfVectorizer(norm = None, smooth_idf = True,max_features=1000)"
   ]
  },
  {
   "cell_type": "code",
   "execution_count": 132,
   "metadata": {},
   "outputs": [],
   "source": [
    "NROM_comment = normalize_corpus(df_comment_group['Comment'])"
   ]
  },
  {
   "cell_type": "code",
   "execution_count": 133,
   "metadata": {},
   "outputs": [],
   "source": [
    "TF_IDF_matrix = vectorizer_TF_IDF.fit_transform(NROM_comment).toarray()"
   ]
  },
  {
   "cell_type": "code",
   "execution_count": 134,
   "metadata": {},
   "outputs": [],
   "source": [
    "TF_IDF_matrix_names = vectorizer_TF_IDF.get_feature_names() "
   ]
  },
  {
   "cell_type": "code",
   "execution_count": 135,
   "metadata": {},
   "outputs": [
    {
     "data": {
      "text/html": [
       "<div>\n",
       "<style scoped>\n",
       "    .dataframe tbody tr th:only-of-type {\n",
       "        vertical-align: middle;\n",
       "    }\n",
       "\n",
       "    .dataframe tbody tr th {\n",
       "        vertical-align: top;\n",
       "    }\n",
       "\n",
       "    .dataframe thead th {\n",
       "        text-align: right;\n",
       "    }\n",
       "</style>\n",
       "<table border=\"1\" class=\"dataframe\">\n",
       "  <thead>\n",
       "    <tr style=\"text-align: right;\">\n",
       "      <th></th>\n",
       "      <th>2d</th>\n",
       "      <th>3d</th>\n",
       "      <th>3ds</th>\n",
       "      <th>ability</th>\n",
       "      <th>able</th>\n",
       "      <th>absolute</th>\n",
       "      <th>absolutely</th>\n",
       "      <th>account</th>\n",
       "      <th>achievement</th>\n",
       "      <th>across</th>\n",
       "      <th>...</th>\n",
       "      <th>write</th>\n",
       "      <th>writing</th>\n",
       "      <th>wrong</th>\n",
       "      <th>xbox</th>\n",
       "      <th>yeah</th>\n",
       "      <th>year</th>\n",
       "      <th>yes</th>\n",
       "      <th>yet</th>\n",
       "      <th>zelda</th>\n",
       "      <th>zombie</th>\n",
       "    </tr>\n",
       "  </thead>\n",
       "  <tbody>\n",
       "    <tr>\n",
       "      <td>0</td>\n",
       "      <td>0.0</td>\n",
       "      <td>0.00</td>\n",
       "      <td>0.00</td>\n",
       "      <td>0.0</td>\n",
       "      <td>3.14</td>\n",
       "      <td>0.0</td>\n",
       "      <td>0.00</td>\n",
       "      <td>0.0</td>\n",
       "      <td>0.0</td>\n",
       "      <td>0.0</td>\n",
       "      <td>...</td>\n",
       "      <td>1.82</td>\n",
       "      <td>0.0</td>\n",
       "      <td>0.00</td>\n",
       "      <td>0.0</td>\n",
       "      <td>2.07</td>\n",
       "      <td>0.00</td>\n",
       "      <td>3.34</td>\n",
       "      <td>1.43</td>\n",
       "      <td>0.0</td>\n",
       "      <td>0.0</td>\n",
       "    </tr>\n",
       "    <tr>\n",
       "      <td>1</td>\n",
       "      <td>0.0</td>\n",
       "      <td>0.00</td>\n",
       "      <td>0.00</td>\n",
       "      <td>0.0</td>\n",
       "      <td>0.00</td>\n",
       "      <td>0.0</td>\n",
       "      <td>0.00</td>\n",
       "      <td>0.0</td>\n",
       "      <td>0.0</td>\n",
       "      <td>0.0</td>\n",
       "      <td>...</td>\n",
       "      <td>0.00</td>\n",
       "      <td>0.0</td>\n",
       "      <td>1.67</td>\n",
       "      <td>0.0</td>\n",
       "      <td>0.00</td>\n",
       "      <td>0.00</td>\n",
       "      <td>0.00</td>\n",
       "      <td>0.00</td>\n",
       "      <td>0.0</td>\n",
       "      <td>0.0</td>\n",
       "    </tr>\n",
       "    <tr>\n",
       "      <td>2</td>\n",
       "      <td>0.0</td>\n",
       "      <td>0.00</td>\n",
       "      <td>0.00</td>\n",
       "      <td>0.0</td>\n",
       "      <td>1.57</td>\n",
       "      <td>0.0</td>\n",
       "      <td>0.00</td>\n",
       "      <td>0.0</td>\n",
       "      <td>0.0</td>\n",
       "      <td>0.0</td>\n",
       "      <td>...</td>\n",
       "      <td>0.00</td>\n",
       "      <td>0.0</td>\n",
       "      <td>0.00</td>\n",
       "      <td>0.0</td>\n",
       "      <td>0.00</td>\n",
       "      <td>1.32</td>\n",
       "      <td>0.00</td>\n",
       "      <td>0.00</td>\n",
       "      <td>0.0</td>\n",
       "      <td>0.0</td>\n",
       "    </tr>\n",
       "    <tr>\n",
       "      <td>3</td>\n",
       "      <td>0.0</td>\n",
       "      <td>10.59</td>\n",
       "      <td>10.24</td>\n",
       "      <td>0.0</td>\n",
       "      <td>0.00</td>\n",
       "      <td>0.0</td>\n",
       "      <td>0.00</td>\n",
       "      <td>0.0</td>\n",
       "      <td>0.0</td>\n",
       "      <td>0.0</td>\n",
       "      <td>...</td>\n",
       "      <td>0.00</td>\n",
       "      <td>0.0</td>\n",
       "      <td>0.00</td>\n",
       "      <td>0.0</td>\n",
       "      <td>0.00</td>\n",
       "      <td>0.00</td>\n",
       "      <td>3.34</td>\n",
       "      <td>0.00</td>\n",
       "      <td>0.0</td>\n",
       "      <td>0.0</td>\n",
       "    </tr>\n",
       "    <tr>\n",
       "      <td>4</td>\n",
       "      <td>0.0</td>\n",
       "      <td>10.59</td>\n",
       "      <td>3.41</td>\n",
       "      <td>0.0</td>\n",
       "      <td>3.14</td>\n",
       "      <td>0.0</td>\n",
       "      <td>3.12</td>\n",
       "      <td>0.0</td>\n",
       "      <td>0.0</td>\n",
       "      <td>0.0</td>\n",
       "      <td>...</td>\n",
       "      <td>0.00</td>\n",
       "      <td>0.0</td>\n",
       "      <td>0.00</td>\n",
       "      <td>0.0</td>\n",
       "      <td>0.00</td>\n",
       "      <td>0.00</td>\n",
       "      <td>3.34</td>\n",
       "      <td>0.00</td>\n",
       "      <td>0.0</td>\n",
       "      <td>0.0</td>\n",
       "    </tr>\n",
       "  </tbody>\n",
       "</table>\n",
       "<p>5 rows × 1000 columns</p>\n",
       "</div>"
      ],
      "text/plain": [
       "    2d     3d    3ds  ability  able  absolute  absolutely  account  \\\n",
       "0  0.0   0.00   0.00      0.0  3.14       0.0        0.00      0.0   \n",
       "1  0.0   0.00   0.00      0.0  0.00       0.0        0.00      0.0   \n",
       "2  0.0   0.00   0.00      0.0  1.57       0.0        0.00      0.0   \n",
       "3  0.0  10.59  10.24      0.0  0.00       0.0        0.00      0.0   \n",
       "4  0.0  10.59   3.41      0.0  3.14       0.0        3.12      0.0   \n",
       "\n",
       "   achievement  across  ...  write  writing  wrong  xbox  yeah  year   yes  \\\n",
       "0          0.0     0.0  ...   1.82      0.0   0.00   0.0  2.07  0.00  3.34   \n",
       "1          0.0     0.0  ...   0.00      0.0   1.67   0.0  0.00  0.00  0.00   \n",
       "2          0.0     0.0  ...   0.00      0.0   0.00   0.0  0.00  1.32  0.00   \n",
       "3          0.0     0.0  ...   0.00      0.0   0.00   0.0  0.00  0.00  3.34   \n",
       "4          0.0     0.0  ...   0.00      0.0   0.00   0.0  0.00  0.00  3.34   \n",
       "\n",
       "    yet  zelda  zombie  \n",
       "0  1.43    0.0     0.0  \n",
       "1  0.00    0.0     0.0  \n",
       "2  0.00    0.0     0.0  \n",
       "3  0.00    0.0     0.0  \n",
       "4  0.00    0.0     0.0  \n",
       "\n",
       "[5 rows x 1000 columns]"
      ]
     },
     "execution_count": 135,
     "metadata": {},
     "output_type": "execute_result"
    }
   ],
   "source": [
    "TF_IDF_matrix_table = pd.DataFrame(np.round(TF_IDF_matrix, 2), columns = TF_IDF_matrix_names)\n",
    "TF_IDF_matrix_table.head()"
   ]
  },
  {
   "cell_type": "markdown",
   "metadata": {},
   "source": [
    "## Topic Modeling - Latent Semantic Analysis (LSA)"
   ]
  },
  {
   "cell_type": "markdown",
   "metadata": {},
   "source": [
    "In the topic modeling section, we decided to perform a LSA instead of LDA. Because the result of LDA does not perform as well as LSA. LSA learns latent topics by performing a matrix decomposition on the document-term matrix using singular value decomposition. Through LSA, we would be able to select the main 35 features/genres from video games and for each of the main feature, we select the 40 keywords."
   ]
  },
  {
   "cell_type": "code",
   "execution_count": 136,
   "metadata": {},
   "outputs": [],
   "source": [
    "from sklearn.decomposition import TruncatedSVD\n",
    "from sklearn.pipeline import Pipeline"
   ]
  },
  {
   "cell_type": "code",
   "execution_count": 137,
   "metadata": {},
   "outputs": [],
   "source": [
    "# Method 1\n",
    "def display_topics(model, feature_names, no_top_words, topic_names=None):\n",
    "    for ix, topic in enumerate(model.components_):\n",
    "        if not topic_names or not topic_names[ix]:\n",
    "            print(\"\\nTopic \", ix)\n",
    "        else:\n",
    "            print(\"\\nTopic: '\",topic_names[ix],\"'\")\n",
    "        print(\", \".join([feature_names[i]\n",
    "                        for i in topic.argsort()[:-no_top_words - 1:-1]]))"
   ]
  },
  {
   "cell_type": "code",
   "execution_count": 138,
   "metadata": {},
   "outputs": [],
   "source": [
    "n_comp = 35\n",
    "no_top_words = 40\n",
    "\n",
    "lsa = TruncatedSVD(n_components=n_comp)\n",
    "\n",
    "lsa_tfidf_data = lsa.fit_transform(TF_IDF_matrix)"
   ]
  },
  {
   "cell_type": "code",
   "execution_count": 139,
   "metadata": {},
   "outputs": [
    {
     "name": "stdout",
     "output_type": "stream",
     "text": [
      "\n",
      "Topic  0\n",
      "game, diretide, play, like, story, give, good, time, character, diablo, great, really, new, even, valve, well, much, people, player, bad, feel, best, graphic, world, first, fun, thing, fallout, blizzard, multiplayer, end, review, mw2, hour, gameplay, cod, combat, look, skyrim, take\n",
      "\n",
      "Topic  1\n",
      "diretide, valve, give, hero, community, hat, update, event, thanks, match, learn, team, na, free, rts, normal, beta, win, set, boy, garbage, result, football, balance, complex, 3ds, 2d, strategy, kart, pokemon, racing, addict, happy, remake, ps2, dull, hook, master, madden, solo\n",
      "\n",
      "Topic  2\n",
      "mw2, mw3, cod, ops, warfare, multiplayer, duty, campaign, map, battlefield, modern, call, black, new, gun, halo, zombie, mode, fps, survival, shooter, player, perk, spawn, kill, engine, weapon, series, pack, year, single, franchise, buy, change, shoot, people, copy, multi, team, like\n",
      "\n",
      "Topic  3\n",
      "diablo, blizzard, server, mw2, mw3, cod, ops, house, player, online, play, skill, warfare, loot, item, multiplayer, money, duty, single, connection, campaign, launch, gear, class, map, modern, battlefield, wow, call, pvp, people, mode, black, ii, lag, year, buy, pay, customization, drop\n",
      "\n",
      "Topic  4\n",
      "fallout, bethesda, skyrim, quest, diablo, oblivion, mw2, mod, mw3, bug, perk, blizzard, new, cod, ops, rpg, warfare, system, armor, duty, skill, hour, building, world, dialogue, modern, engine, fix, loot, map, call, npc, black, glitch, lag, server, build, gun, weapon, kill\n",
      "\n",
      "Topic  5\n",
      "bioware, mass, effect, end, dragon, rpg, fallout, choice, age, mw2, ending, diablo, origin, dlc, mw3, ea, series, bad, da, dialogue, combat, decision, ops, cod, warfare, blizzard, quest, review, previous, character, duty, fan, plot, matter, terrible, ruin, option, universe, modern, writing\n",
      "\n",
      "Topic  6\n",
      "skyrim, oblivion, quest, dragon, witcher, combat, zelda, world, dungeon, game, mod, hour, bethesda, soul, rpgs, rpg, bug, mw2, portal, dark, sword, mw3, beautiful, age, valve, magic, fantasy, ps3, fight, explore, lag, puzzle, enemy, da, nintendo, origin, npc, level, de, patch\n",
      "\n",
      "Topic  7\n",
      "gta, skyrim, rockstar, dragon, mw2, oblivion, bioware, mw3, quest, mission, car, iv, auto, world, grand, mod, bethesda, warfare, online, pc, character, age, rpg, ops, bug, diablo, origin, mass, da, city, drive, ps3, money, modern, cod, open, rpgs, main, huge, witcher\n",
      "\n",
      "Topic  8\n",
      "halo, skyrim, campaign, multiplayer, gta, oblivion, dragon, quest, bethesda, bioware, reach, mod, rockstar, bug, online, xbox, mission, pc, origin, battlefield, age, vehicle, rpg, map, da, master, ps3, auto, bad, console, iv, fix, armor, good, player, lag, diablo, rpgs, graphic, glitch\n",
      "\n",
      "Topic  9\n",
      "portal, valve, skyrim, puzzle, op, co, gta, oblivion, bethesda, dlc, mass, hour, single, player, mod, bioware, campaign, rockstar, effect, pc, humor, short, funny, bug, end, multiplayer, ps3, dragon, halo, battlefield, steam, people, solve, buy, online, test, release, friend, length, fun\n",
      "\n",
      "Topic  10\n",
      "bioshock, skyrim, infinite, end, oblivion, mass, bethesda, effect, shooter, mod, ps3, ending, game, gun, gameplay, bug, fps, uncharted, shoot, battlefield, plot, choice, weapon, city, series, multiplayer, lag, cover, last, story, ai, glitch, atmosphere, save, twist, person, fix, experience, previous, video\n",
      "\n",
      "Topic  11\n",
      "zelda, mass, end, effect, nintendo, skyrim, mario, de, que, series, game, wii, dungeon, oblivion, ending, bethesda, la, el, uncharted, juego, switch, sword, world, open, un, dlc, soul, en, mod, choice, los, best, una, weapon, war, ever, lo, halo, 3d, previous\n",
      "\n",
      "Topic  12\n",
      "battlefield, multiplayer, player, ea, fps, vehicle, campaign, shooter, team, origin, server, single, map, fifa, play, tank, bug, doom, pc, soul, beta, class, company, weapon, bad, fun, crash, war, minecraft, match, realistic, graphic, dragon, sound, good, tactical, issue, balance, fix, run\n",
      "\n",
      "Topic  13\n",
      "zelda, bioshock, infinite, dragon, nintendo, bioware, dungeon, age, mario, gta, wii, da, world, origin, weapon, switch, fps, que, portal, sword, battlefield, shooter, de, fallout, juego, rockstar, ea, art, open, el, la, tactical, people, review, explore, bad, un, item, time, original\n",
      "\n",
      "Topic  14\n",
      "witcher, uncharted, rpg, quest, battlefield, story, multiplayer, mass, best, world, red, rpgs, effect, end, choice, tomb, dog, monster, character, graphic, play, ever, raider, campaign, beautiful, fantasy, amazing, shooter, single, ps4, player, masterpiece, decision, last, cod, fps, server, ending, vehicle, experience\n",
      "\n",
      "Topic  15\n",
      "uncharted, tomb, raider, dragon, dog, da, age, bioware, origin, ps3, character, action, puzzle, adventure, survival, last, mw2, ps4, bethesda, movie, game, like, tactical, zombie, gameplay, resident, oblivion, mario, skyrim, scene, halo, ops, party, horror, ii, story, de, old, console, evil\n",
      "\n",
      "Topic  16\n",
      "soul, dark, demon, boss, pvp, die, bos, enemy, game, hard, level, difficulty, minecraft, doom, challenge, destiny, design, mw2, difficult, port, lore, first, attack, atmosphere, horror, controller, weapon, kill, area, learn, fight, reward, ps4, death, rpg, mouse, new, ops, monster, armor\n",
      "\n",
      "Topic  17\n",
      "mario, fifa, assassin, creed, minecraft, kart, destiny, super, fun, zombie, new, 3d, mode, level, wii, game, team, play, ship, stealth, civ, content, mission, football, character, black, ai, race, hero, ball, mmo, year, ops, expansion, match, 3ds, smash, gameplay, power, battle\n",
      "\n",
      "Topic  18\n",
      "assassin, creed, tomb, raider, mission, destiny, zelda, ship, weapon, stealth, cry, open, black, kill, story, doom, combat, zombie, like, system, fun, really, mmo, far, thing, gear, franchise, explore, minecraft, good, dungeon, upgrade, world, event, enemy, pvp, repetitive, metal, new, expansion\n",
      "\n",
      "Topic  19\n",
      "tomb, raider, mario, witcher, kart, bioshock, super, wii, arkham, 3d, batman, mass, nintendo, gta, level, fifa, puzzle, effect, mw3, new, event, rpg, infinite, battlefield, halo, control, quick, fun, easy, mw2, quest, well, ea, player, minecraft, dlc, soul, skill, challenge, pc\n",
      "\n",
      "Topic  20\n",
      "fifa, minecraft, ea, football, team, ball, player, year, play, destiny, witcher, arkham, mode, game, goal, batman, zelda, civ, tomb, ai, match, raider, win, mw2, halo, pay, update, survival, people, hero, build, card, pass, money, community, score, pro, every, madden, expansion\n",
      "\n",
      "Topic  21\n",
      "minecraft, zombie, doom, destiny, ops, shooter, duty, mod, fps, arkham, cod, batman, game, survival, content, fun, build, weapon, horror, update, call, server, campaign, resident, play, community, black, mmo, dead, gun, friend, hero, evil, pvp, creative, original, multiplayer, monster, class, max\n",
      "\n",
      "Topic  22\n",
      "minecraft, assassin, battlefield, creed, mw3, game, build, mw2, halo, mod, survival, building, server, update, creative, graphic, ship, house, vehicle, civ, 2d, origin, diablo, witcher, notch, craft, create, bioshock, community, beta, pack, explore, uncharted, texture, adventure, bug, combat, infinite, bioware, city\n",
      "\n",
      "Topic  23\n",
      "destiny, mw3, pvp, mw2, battlefield, expansion, mmo, uncharted, content, new, grind, dlc, gear, loot, map, halo, pay, civ, class, wow, quest, minecraft, event, fantasy, final, level, strike, feel, vehicle, launch, hour, people, blizzard, base, story, money, hero, review, modern, pack\n",
      "\n",
      "Topic  24\n",
      "doom, mw3, mw2, fps, shooter, resident, horror, demon, game, modern, evil, cry, fast, blizzard, old, survival, alien, max, kill, action, civ, half, hero, halo, map, stealth, enemy, original, life, character, god, style, team, school, metal, person, gameplay, fantasy, secret, upgrade\n",
      "\n",
      "Topic  25\n",
      "doom, uncharted, minecraft, assassin, creed, witcher, destiny, demon, fifa, bioshock, zelda, multiplayer, mario, gta, fps, soul, bioware, shooter, portal, diablo, weapon, fun, fast, infinite, kill, arkham, player, batman, end, mod, mass, campaign, world, bethesda, level, skyrim, nintendo, dark, ship, pvp\n",
      "\n",
      "Topic  26\n",
      "civ, blizzard, hero, team, uncharted, map, play, unit, assassin, witcher, fun, creed, match, fps, class, bioshock, card, character, balance, valve, free, expansion, city, content, shooter, win, new, strategy, mode, rts, zelda, counter, game, community, soul, ship, bioware, mass, mmo, race\n",
      "\n",
      "Topic  27\n",
      "civ, unit, diablo, war, city, doom, ai, alien, turn, strategy, new, series, expansion, resident, witcher, previous, bug, evil, crash, iv, horror, god, uncharted, tree, total, car, graphic, campaign, destiny, steam, patch, build, franchise, like, mod, original, still, space, zombie, beyond\n",
      "\n",
      "Topic  28\n",
      "fantasy, war, final, god, mmo, combat, world, minecraft, ps4, doom, de, quest, battle, portal, character, que, open, system, story, wow, new, ops, gear, campaign, car, la, cry, series, end, el, content, previous, bioshock, server, se, fight, son, infinite, side, camera\n",
      "\n",
      "Topic  29\n",
      "resident, war, evil, god, horror, de, que, ps4, gta, assassin, destiny, creed, blizzard, combat, survival, doom, la, el, zombie, bioshock, jogo, los, en, puzzle, son, bioware, juego, un, new, campaign, para, witcher, skyrim, battlefield, da, se, tomb, masterpiece, franchise, dlc\n",
      "\n",
      "Topic  30\n",
      "war, god, max, gear, rockstar, metal, game, stealth, ps4, de, destiny, dragon, gameplay, mission, que, bioware, masterpiece, bullet, son, best, la, witcher, age, diablo, cutscenes, da, shooter, juego, cover, bethesda, steam, skyrim, cut, pc, el, story, total, un, enemy, origin\n",
      "\n",
      "Topic  31\n",
      "max, rockstar, bullet, resident, fantasy, cover, scene, mmo, evil, cut, cutscenes, assassin, shoot, time, new, creed, multiplayer, final, minecraft, pokemon, movie, horror, character, expansion, dungeon, shooter, blizzard, story, action, zelda, slow, uncharted, series, combat, wow, battle, quest, pvp, hero, dead\n",
      "\n",
      "Topic  32\n",
      "mission, gear, resident, metal, stealth, cry, evil, world, mmo, open, far, max, uncharted, horror, quest, expansion, enemy, bioshock, blizzard, wow, portal, solid, weapon, base, fun, que, de, alien, end, op, pc, shoot, pvp, kill, gun, like, co, side, content, witcher\n",
      "\n",
      "Topic  33\n",
      "civ, blizzard, story, home, house, character, hero, battlefield, mario, world, metal, stealth, soul, end, doom, open, map, skyrim, campaign, multiplayer, gta, team, portal, que, last, dark, minecraft, hour, player, mission, match, bethesda, feel, explore, unit, emotional, cod, review, experience, content\n",
      "\n",
      "Topic  34\n",
      "mmo, pvp, wow, class, expansion, quest, level, war, dungeon, gta, home, zombie, server, house, grind, best, new, mario, life, play, valve, world, dead, launch, ever, doom, player, event, half, experience, horror, battlefield, skill, last, month, alien, bug, atmosphere, stealth, year\n"
     ]
    }
   ],
   "source": [
    "display_topics(lsa,TF_IDF_matrix_names,no_top_words)"
   ]
  },
  {
   "cell_type": "markdown",
   "metadata": {},
   "source": [
    "Display topics for LDA on TF-IDF Vectorizer (as comparison)"
   ]
  },
  {
   "cell_type": "code",
   "execution_count": null,
   "metadata": {},
   "outputs": [],
   "source": [
    "lda = LatentDirichletAllocation(n_components=n_comp)\n",
    "\n",
    "lda_cv_data = lda.fit_transform(cv_data)\n",
    "lda_tfidf_data = lda.fit_transform(tfidf_data)\n",
    "\n",
    "display_topics(lda,tfidf_vectorizer.get_feature_names(),15)"
   ]
  },
  {
   "cell_type": "markdown",
   "metadata": {},
   "source": [
    "# Recommendation System - K-nearest neighbors (KNN)"
   ]
  },
  {
   "cell_type": "markdown",
   "metadata": {},
   "source": [
    "After topic modeling, we are able to select 35 main features and 40 keywords for each of the feature. Then, the last step is to create a recommendation system through KNN approaches. We set the k value as 10 so that we would be able to find the cloest 10 video games as a return value. The input is the features that you are searching and the output would be 10 related video games with sentiment review score as a supplemental information."
   ]
  },
  {
   "cell_type": "code",
   "execution_count": 140,
   "metadata": {},
   "outputs": [],
   "source": [
    "from sklearn.model_selection import train_test_split\n",
    "from sklearn.neighbors import KNeighborsClassifier\n",
    "from sklearn import metrics\n",
    "from sklearn.model_selection import KFold"
   ]
  },
  {
   "cell_type": "code",
   "execution_count": 143,
   "metadata": {},
   "outputs": [],
   "source": [
    "X=lsa_tfidf_data\n",
    "y=df_comment_group['Title']"
   ]
  },
  {
   "cell_type": "code",
   "execution_count": 156,
   "metadata": {},
   "outputs": [],
   "source": [
    "def get_recommendations(first_article, model, vectorizer, X,y):\n",
    "    new_vec = model.transform(vectorizer.transform([first_article]))\n",
    "    nn = KNeighborsClassifier(n_neighbors=10, metric='cosine', algorithm='brute').fit(X,y)\n",
    "    results = nn.kneighbors(new_vec)\n",
    "    return results[1][0]"
   ]
  },
  {
   "cell_type": "code",
   "execution_count": 160,
   "metadata": {},
   "outputs": [
    {
     "data": {
      "text/plain": [
       "array([216, 215, 214, 213, 221, 219,  89, 218, 217, 211])"
      ]
     },
     "execution_count": 160,
     "metadata": {},
     "output_type": "execute_result"
    }
   ],
   "source": [
    "result = get_recommendations(\"warfare, multiplayer, duty, campaign\", lsa, vectorizer_TF_IDF, X,y)\n",
    "result"
   ]
  },
  {
   "cell_type": "code",
   "execution_count": 161,
   "metadata": {},
   "outputs": [
    {
     "name": "stdout",
     "output_type": "stream",
     "text": [
      "Recommend games name is Call of Duty: Black Ops III. \n",
      "The sentiment score of is 0.66.\n",
      "Recommend games name is Call of Duty: Black Ops II. \n",
      "The sentiment score of is 0.64.\n",
      "Recommend games name is Call of Duty: Black Ops. \n",
      "The sentiment score of is 0.62.\n",
      "Recommend games name is Call of Duty: Advanced Warfare. \n",
      "The sentiment score of is 0.7.\n",
      "Recommend games name is Call of Duty: World at War. \n",
      "The sentiment score of is 0.65.\n",
      "Recommend games name is Call of Duty: Modern Warfare Remastered. \n",
      "The sentiment score of is 0.67.\n",
      "Recommend games name is B-17 Flying Fortress: The Mighty 8th. \n",
      "The sentiment score of is 1.0.\n",
      "Recommend games name is Call of Duty: Modern Warfare 3. \n",
      "The sentiment score of is 0.62.\n",
      "Recommend games name is Call of Duty: Modern Warfare 2. \n",
      "The sentiment score of is 0.64.\n",
      "Recommend games name is Call of Duty 3. \n",
      "The sentiment score of is 0.68.\n"
     ]
    }
   ],
   "source": [
    "for r in result:\n",
    "    game = df_comment_group.Title[r]\n",
    "    vader_polarity = df_comment_group[\"VADER Polarity\"][r]\n",
    "    print(f'Recommend games name is {game}. \\nThe sentiment score of is {round(vader_polarity,2)}.')"
   ]
  },
  {
   "cell_type": "code",
   "execution_count": 162,
   "metadata": {},
   "outputs": [
    {
     "data": {
      "text/plain": [
       "array([1429, 1428, 2307, 1427, 1985, 2004, 1478, 1603, 1781, 1704])"
      ]
     },
     "execution_count": 162,
     "metadata": {},
     "output_type": "execute_result"
    }
   ],
   "source": [
    "result2 = get_recommendations(\"humor, short, funny\", lsa, vectorizer_TF_IDF, X,y)\n",
    "result2"
   ]
  },
  {
   "cell_type": "code",
   "execution_count": 163,
   "metadata": {},
   "outputs": [
    {
     "name": "stdout",
     "output_type": "stream",
     "text": [
      "Recommend games name is Portal: Still Alive. \n",
      "The sentiment score of is 0.97.\n",
      "Recommend games name is Portal 2. \n",
      "The sentiment score of is 0.94.\n",
      "Recommend games name is ZEN Pinball 2: Portal Pinball. \n",
      "The sentiment score of is 1.0.\n",
      "Recommend games name is Portal. \n",
      "The sentiment score of is 0.94.\n",
      "Recommend games name is The Orange Box. \n",
      "The sentiment score of is 0.95.\n",
      "Recommend games name is The Talos Principle. \n",
      "The sentiment score of is 0.88.\n",
      "Recommend games name is Quell Memento. \n",
      "The sentiment score of is 1.0.\n",
      "Recommend games name is Sam & Max Episode 105: Reality 2.0. \n",
      "The sentiment score of is 1.0.\n",
      "Recommend games name is Statik. \n",
      "The sentiment score of is 1.0.\n",
      "Recommend games name is Snipperclips Plus: Cut It Out, Together!. \n",
      "The sentiment score of is 1.0.\n"
     ]
    }
   ],
   "source": [
    "for r in result2:\n",
    "    game = df_comment_group.Title[r]\n",
    "    vader_polarity = df_comment_group[\"VADER Polarity\"][r]\n",
    "    print(f'Recommend games name is {game}. \\nThe sentiment score of is {round(vader_polarity,2)}.')"
   ]
  }
 ],
 "metadata": {
  "kernelspec": {
   "display_name": "Python 3",
   "language": "python",
   "name": "python3"
  },
  "language_info": {
   "codemirror_mode": {
    "name": "ipython",
    "version": 3
   },
   "file_extension": ".py",
   "mimetype": "text/x-python",
   "name": "python",
   "nbconvert_exporter": "python",
   "pygments_lexer": "ipython3",
   "version": "3.7.3"
  }
 },
 "nbformat": 4,
 "nbformat_minor": 2
}
